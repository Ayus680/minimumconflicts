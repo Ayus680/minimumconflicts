{
 "cells": [
  {
   "cell_type": "code",
   "execution_count": null,
   "id": "5489e5ce-2575-400b-bbef-284429ee0633",
   "metadata": {},
   "outputs": [],
   "source": []
  },
  {
   "cell_type": "code",
   "execution_count": 13,
   "id": "8514e4fa-6adc-438d-99ed-83530e2b34bb",
   "metadata": {},
   "outputs": [
    {
     "name": "stdin",
     "output_type": "stream",
     "text": [
      "Enter the number of queens:  4\n"
     ]
    },
    {
     "name": "stdout",
     "output_type": "stream",
     "text": [
      "{0: 1, 1: 3, 2: 0, 3: 2}\n"
     ]
    }
   ],
   "source": [
    "import random\n",
    "\n",
    "class ConstraintSolver:\n",
    "    def __init__(self, size):\n",
    "        self.size = size\n",
    "        self.variables = list(range(size))\n",
    "        self.domains = {var: list(range(size)) for var in self.variables}\n",
    "        self.constraints = self._setup_constraints()\n",
    "\n",
    "    def _setup_constraints(self):\n",
    "        constraints = {var: {} for var in self.variables}\n",
    "        for i in self.variables:\n",
    "            for j in self.variables:\n",
    "                if i != j:\n",
    "                    constraints[i][j] = lambda q1, q2, i=i, j=j: q1 != q2 and abs(q1 - q2) != abs(i - j)\n",
    "        return constraints\n",
    "\n",
    "    def _count_conflicts(self, var, value, assignment):\n",
    "        return sum(\n",
    "            1 for neighbor in self.constraints[var]\n",
    "            if neighbor in assignment and not self.constraints[var][neighbor](value, assignment[neighbor])\n",
    "        )\n",
    "\n",
    "    def _is_solution(self, assignment):\n",
    "        return all(self._count_conflicts(var, assignment[var], assignment) == 0 for var in self.variables)\n",
    "\n",
    "    def solve(self, max_steps=1000):\n",
    "        state = {var: random.choice(self.domains[var]) for var in self.variables}\n",
    "        for _ in range(max_steps):\n",
    "            if self._is_solution(state):\n",
    "                return state\n",
    "            conflicted = [var for var in self.variables if self._count_conflicts(var, state[var], state) > 0]\n",
    "            if not conflicted:\n",
    "                return state\n",
    "            var = random.choice(conflicted)\n",
    "            state[var] = min(self.domains[var], key=lambda v: self._count_conflicts(var, v, state))\n",
    "        return \"No solution found\"\n",
    "\n",
    "\n",
    "n = int(input(\"Enter the number of queens: \"))\n",
    "solver = ConstraintSolver(n)\n",
    "result = solver.solve()\n",
    "print(result)\n"
   ]
  },
  {
   "cell_type": "code",
   "execution_count": null,
   "id": "227f76f8-437b-4b8b-b1c3-5601559b52d9",
   "metadata": {},
   "outputs": [],
   "source": []
  }
 ],
 "metadata": {
  "kernelspec": {
   "display_name": "Python [conda env:base] *",
   "language": "python",
   "name": "conda-base-py"
  },
  "language_info": {
   "codemirror_mode": {
    "name": "ipython",
    "version": 3
   },
   "file_extension": ".py",
   "mimetype": "text/x-python",
   "name": "python",
   "nbconvert_exporter": "python",
   "pygments_lexer": "ipython3",
   "version": "3.12.7"
  }
 },
 "nbformat": 4,
 "nbformat_minor": 5
}
